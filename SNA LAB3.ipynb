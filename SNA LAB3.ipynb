{
  "nbformat": 4,
  "nbformat_minor": 0,
  "metadata": {
    "colab": {
      "provenance": []
    },
    "kernelspec": {
      "name": "python3",
      "display_name": "Python 3"
    },
    "language_info": {
      "name": "python"
    }
  },
  "cells": [
    {
      "cell_type": "code",
      "execution_count": 1,
      "metadata": {
        "id": "Bfk23_vN3UHb"
      },
      "outputs": [],
      "source": [
        "import pandas as pd\n",
        "from sklearn.feature_extraction.text import CountVectorizer, TfidfTransformer\n",
        "from sklearn.naive_bayes import MultinomialNB\n",
        "from sklearn.svm import SVC\n",
        "from sklearn.tree import DecisionTreeClassifier\n",
        "from sklearn.metrics import classification_report, accuracy_score\n",
        "from sklearn.model_selection import train_test_split\n",
        "import matplotlib.pyplot as plt\n",
        "import seaborn as sns\n"
      ]
    },
    {
      "cell_type": "code",
      "source": [
        "# Load the dataset\n",
        "data = pd.read_csv('/content/train.csv') \n",
        "\n",
        "# Split the dataset into training and testing sets\n",
        "X_train, X_test, y_train, y_test = train_test_split(data['tweet'], data['label'], test_size=0.2, random_state=42)\n",
        "\n"
      ],
      "metadata": {
        "id": "JDkykToF3a-j"
      },
      "execution_count": 2,
      "outputs": []
    },
    {
      "cell_type": "code",
      "source": [
        "# Text vectorization using CountVectorizer\n",
        "vectorizer = CountVectorizer()\n",
        "X_train_counts = vectorizer.fit_transform(X_train)\n",
        "X_test_counts = vectorizer.transform(X_test)\n",
        "\n",
        "# Transform the word counts to TF-IDF representation\n",
        "tfidf_transformer = TfidfTransformer()\n",
        "X_train_tfidf = tfidf_transformer.fit_transform(X_train_counts)\n",
        "X_test_tfidf = tfidf_transformer.transform(X_test_counts)\n"
      ],
      "metadata": {
        "id": "YlKqWoX33xfU"
      },
      "execution_count": 3,
      "outputs": []
    },
    {
      "cell_type": "code",
      "source": [
        "# Naive Bayes classifier\n",
        "nb_classifier = MultinomialNB()\n",
        "nb_classifier.fit(X_train_tfidf, y_train)\n",
        "nb_predictions = nb_classifier.predict(X_test_tfidf)\n",
        "\n",
        "print(\"Naive Bayes Classifier:\")\n",
        "print(classification_report(y_test, nb_predictions))\n",
        "print(\"Accuracy:\", accuracy_score(y_test, nb_predictions))\n"
      ],
      "metadata": {
        "colab": {
          "base_uri": "https://localhost:8080/"
        },
        "id": "0jzeCUt731xb",
        "outputId": "e0b098a7-b875-47d4-cf78-8517b60b2808"
      },
      "execution_count": 4,
      "outputs": [
        {
          "output_type": "stream",
          "name": "stdout",
          "text": [
            "Naive Bayes Classifier:\n",
            "              precision    recall  f1-score   support\n",
            "\n",
            "           0       0.94      1.00      0.97      4030\n",
            "           1       1.00      0.07      0.13       291\n",
            "\n",
            "    accuracy                           0.94      4321\n",
            "   macro avg       0.97      0.53      0.55      4321\n",
            "weighted avg       0.94      0.94      0.91      4321\n",
            "\n",
            "Accuracy: 0.9372830363341819\n"
          ]
        }
      ]
    },
    {
      "cell_type": "code",
      "source": [
        "# SVM classifier\n",
        "svm_classifier = SVC()\n",
        "svm_classifier.fit(X_train_tfidf, y_train)\n",
        "svm_predictions = svm_classifier.predict(X_test_tfidf)\n",
        "\n",
        "print(\"SVM Classifier:\")\n",
        "print(classification_report(y_test, svm_predictions))\n",
        "print(\"Accuracy:\", accuracy_score(y_test, svm_predictions))\n"
      ],
      "metadata": {
        "colab": {
          "base_uri": "https://localhost:8080/"
        },
        "id": "9hT1GeGL37UO",
        "outputId": "4ff2e695-5476-4d38-b8ef-7ad3fc997cb4"
      },
      "execution_count": 5,
      "outputs": [
        {
          "output_type": "stream",
          "name": "stdout",
          "text": [
            "SVM Classifier:\n",
            "              precision    recall  f1-score   support\n",
            "\n",
            "           0       0.95      1.00      0.97      4030\n",
            "           1       0.94      0.31      0.46       291\n",
            "\n",
            "    accuracy                           0.95      4321\n",
            "   macro avg       0.94      0.65      0.72      4321\n",
            "weighted avg       0.95      0.95      0.94      4321\n",
            "\n",
            "Accuracy: 0.9518629946771581\n"
          ]
        }
      ]
    },
    {
      "cell_type": "code",
      "source": [
        "# Decision Tree classifier\n",
        "dt_classifier = DecisionTreeClassifier()\n",
        "dt_classifier.fit(X_train_tfidf, y_train)\n",
        "dt_predictions = dt_classifier.predict(X_test_tfidf)\n",
        "\n",
        "print(\"Decision Tree Classifier:\")\n",
        "print(classification_report(y_test, dt_predictions))\n",
        "print(\"Accuracy:\", accuracy_score(y_test, dt_predictions))\n"
      ],
      "metadata": {
        "colab": {
          "base_uri": "https://localhost:8080/"
        },
        "id": "zhABR0-c3_KQ",
        "outputId": "2b03ba5e-e8a3-4450-fc69-62154d50ebf3"
      },
      "execution_count": 6,
      "outputs": [
        {
          "output_type": "stream",
          "name": "stdout",
          "text": [
            "Decision Tree Classifier:\n",
            "              precision    recall  f1-score   support\n",
            "\n",
            "           0       0.97      0.97      0.97      4030\n",
            "           1       0.59      0.53      0.56       291\n",
            "\n",
            "    accuracy                           0.94      4321\n",
            "   macro avg       0.78      0.75      0.76      4321\n",
            "weighted avg       0.94      0.94      0.94      4321\n",
            "\n",
            "Accuracy: 0.9433001619995371\n"
          ]
        }
      ]
    },
    {
      "cell_type": "code",
      "source": [
        "from sklearn.metrics import classification_report\n",
        "import numpy as np\n",
        "\n",
        "classifiers = ['Naive Bayes', 'SVM', 'Decision Tree']\n",
        "reports = [classification_report(y_test, nb_predictions),\n",
        "           classification_report(y_test, svm_predictions),\n",
        "           classification_report(y_test, dt_predictions)]\n",
        "\n",
        "# Initialize arrays to store precision, recall, and F1-score values\n",
        "precision = np.zeros((len(classifiers), len(set(y_test))), dtype=float)\n",
        "recall = np.zeros((len(classifiers), len(set(y_test))), dtype=float)\n",
        "f1_score = np.zeros((len(classifiers), len(set(y_test))), dtype=float)\n",
        "\n",
        "# Parse the classification reports and store the scores\n",
        "for i, report in enumerate(reports):\n",
        "    report_lines = report.split('\\n')[2:-5]\n",
        "    for j, line in enumerate(report_lines):\n",
        "        line_parts = line.split()\n",
        "        if len(line_parts) == 5:\n",
        "            precision[i, j] = float(line_parts[1])\n",
        "            recall[i, j] = float(line_parts[2])\n",
        "            f1_score[i, j] = float(line_parts[3])\n"
      ],
      "metadata": {
        "id": "uNmEVL_C4EeW"
      },
      "execution_count": 9,
      "outputs": []
    },
    {
      "cell_type": "code",
      "source": [
        "# Set up the plot\n",
        "fig, ax = plt.subplots(figsize=(12, 6))\n",
        "bar_width = 0.2\n",
        "index = np.arange(len(classifiers))\n",
        "colors = ['#1f77b4', '#ff7f0e', '#2ca02c']\n"
      ],
      "metadata": {
        "colab": {
          "base_uri": "https://localhost:8080/",
          "height": 548
        },
        "id": "i_G6N3Rt4Mw_",
        "outputId": "6a3dbe42-6029-4297-b29b-8dacf299e0eb"
      },
      "execution_count": 10,
      "outputs": [
        {
          "output_type": "display_data",
          "data": {
            "text/plain": [
              "<Figure size 1200x600 with 1 Axes>"
            ],
            "image/png": "[encoded data removed]"
          },
          "metadata": {}
        }
      ]
    },
    {
      "cell_type": "code",
      "source": [
        "# Plot precision, recall, and F1-score for each class and each classifier\n",
        "for i in range(len(set(y_test))):\n",
        "    bar_offset = i * bar_width\n",
        "    ax.bar(index + bar_offset, precision[:, i], bar_width, label=f'Class {i+1} - Precision', color=colors[i])\n",
        "    ax.bar(index + bar_offset + bar_width, recall[:, i], bar_width, label=f'Class {i+1} - Recall', color=colors[i], alpha=0.5)\n",
        "    ax.bar(index + bar_offset + 2 * bar_width, f1_score[:, i], bar_width, label=f'Class {i+1} - F1-Score', color=colors[i], alpha=0.8)\n",
        "\n",
        "# Configure the plot\n",
        "ax.set_xlabel('Classifier')\n",
        "ax.set_ylabel('Score')\n",
        "ax.set_title('Classification Report')\n",
        "ax.set_xticks(index + bar_width)\n",
        "ax.set_xticklabels(classifiers)\n",
        "ax.legend(loc='lower right')\n",
        "ax.grid(True)\n",
        "\n",
        "plt.show()\n"
      ],
      "metadata": {
        "id": "Ik8wYME74W94"
      },
      "execution_count": 11,
      "outputs": []
    },
    {
      "cell_type": "code",
      "source": [
        "# Accuracy score visualization\n",
        "accuracies = [accuracy_score(y_test, nb_predictions),\n",
        "              accuracy_score(y_test, svm_predictions),\n",
        "              accuracy_score(y_test, dt_predictions)]\n",
        "\n",
        "plt.figure(figsize=(8, 4))\n",
        "sns.barplot(x=classifiers, y=accuracies)\n",
        "plt.xlabel('Classifier')\n",
        "plt.ylabel('Accuracy')\n",
        "plt.title('Accuracy Score')\n",
        "plt.ylim(0, 1)\n",
        "plt.grid(True)\n",
        "plt.show()\n"
      ],
      "metadata": {
        "colab": {
          "base_uri": "https://localhost:8080/",
          "height": 410
        },
        "id": "_E5Qv2R74axm",
        "outputId": "0b4d5198-4613-4f66-a39f-89abe8f51c10"
      },
      "execution_count": 12,
      "outputs": [
        {
          "output_type": "display_data",
          "data": {
            "text/plain": [
              "<Figure size 800x400 with 1 Axes>"
            ],
            "image/png": "[encoded data removed]"
          },
          "metadata": {}
        }
      ]
    },
    {
      "cell_type": "code",
      "source": [
        "import pandas as pd\n",
        "import numpy as np\n",
        "from sklearn.model_selection import train_test_split\n",
        "from keras.preprocessing.text import Tokenizer\n",
        "from tensorflow.keras.preprocessing.sequence import pad_sequences\n",
        "from keras.models import Sequential\n",
        "from keras.layers import Embedding, LSTM, Dense\n",
        "from gensim.models import Word2Vec, FastText\n",
        "\n",
        "\n",
        "# Load the dataset\n",
        "data = pd.read_csv('/content/train.csv')  # Replace 'customer_review.csv' with your dataset file\n",
        "\n",
        "# Convert labels to the appropriate data type\n",
        "data['label'] = data['label'].astype(int)\n",
        "\n",
        "# Split the dataset into training and testing sets\n",
        "X_train, X_test, y_train, y_test = train_test_split(data['tweet'], data['label'], test_size=0.2, random_state=42)\n",
        "\n"
      ],
      "metadata": {
        "id": "EaNNNR0k4d6b"
      },
      "execution_count": 15,
      "outputs": []
    },
    {
      "cell_type": "code",
      "source": [
        "# Tokenize the text\n",
        "tokenizer = Tokenizer()\n",
        "tokenizer.fit_on_texts(X_train)\n",
        "\n",
        "# Convert text to sequences\n",
        "X_train_sequences = tokenizer.texts_to_sequences(X_train)\n",
        "X_test_sequences = tokenizer.texts_to_sequences(X_test)\n",
        "\n",
        "# Pad sequences to ensure consistent length\n",
        "max_sequence_length = max([len(sequence) for sequence in X_train_sequences])\n",
        "X_train_padded = pad_sequences(X_train_sequences, maxlen=max_sequence_length)\n",
        "X_test_padded = pad_sequences(X_test_sequences, maxlen=max_sequence_length)\n"
      ],
      "metadata": {
        "id": "8Ezpekht44zz"
      },
      "execution_count": 16,
      "outputs": []
    },
    {
      "cell_type": "code",
      "source": [
        "# Word Embedding - Word2Vec\n",
        "word2vec_model = Word2Vec(sentences=X_train_sequences, vector_size=100, min_count=1)\n",
        "embedding_matrix = np.zeros((len(tokenizer.word_index) + 1, 100))\n",
        "for word, i in tokenizer.word_index.items():\n",
        "    if word in word2vec_model.wv.key_to_index:\n",
        "        embedding_matrix[i] = word2vec_model.wv[word]\n",
        "\n",
        "# Word Embedding - FastText\n",
        "fasttext_model = FastText(sentences=X_train_sequences, vector_size=100, min_count=1)\n",
        "embedding_matrix = np.zeros((len(tokenizer.word_index) + 1, 100))\n",
        "for word, i in tokenizer.word_index.items():\n",
        "    if word in fasttext_model.wv.key_to_index:\n",
        "        embedding_matrix[i] = fasttext_model.wv[word]\n"
      ],
      "metadata": {
        "id": "U_wFPGEU49rO"
      },
      "execution_count": 17,
      "outputs": []
    },
    {
      "cell_type": "code",
      "source": [
        "# Define the BI-LSTM model\n",
        "model = Sequential()\n",
        "model.add(Embedding(len(tokenizer.word_index) + 1, 100, weights=[embedding_matrix], input_length=max_sequence_length, trainable=False))\n",
        "model.add(LSTM(100, dropout=0.2, recurrent_dropout=0.2))\n",
        "model.add(Dense(1, activation='sigmoid'))\n",
        "\n",
        "model.compile(loss='binary_crossentropy', optimizer='adam', metrics=['accuracy'])\n"
      ],
      "metadata": {
        "id": "udmqDknI5GuY"
      },
      "execution_count": 18,
      "outputs": []
    },
    {
      "cell_type": "code",
      "source": [
        "# Train the model\n",
        "model.fit(X_train_padded, y_train.astype(float), validation_data=(X_test_padded, y_test.astype(float)), epochs=10, batch_size=64)\n",
        "\n",
        "# Evaluate the model\n",
        "loss, accuracy = model.evaluate(X_test_padded, y_test.astype(float), verbose=0)\n",
        "print(\"Accuracy:\", accuracy)\n",
        "\n",
        "\n"
      ],
      "metadata": {
        "colab": {
          "base_uri": "https://localhost:8080/"
        },
        "id": "cAzUTW7H5K1R",
        "outputId": "3aff3c9e-7746-43b9-be8c-f784ab4bb377"
      },
      "execution_count": 20,
      "outputs": [
        {
          "output_type": "stream",
          "name": "stdout",
          "text": [
            "Epoch 1/10\n",
            "400/400 [==============================] - 27s 68ms/step - loss: 0.2535 - accuracy: 0.9301 - val_loss: 0.2571 - val_accuracy: 0.9287\n",
            "Epoch 2/10\n",
            "400/400 [==============================] - 25s 63ms/step - loss: 0.2538 - accuracy: 0.9301 - val_loss: 0.2576 - val_accuracy: 0.9287\n",
            "Epoch 3/10\n",
            "400/400 [==============================] - 26s 65ms/step - loss: 0.2537 - accuracy: 0.9301 - val_loss: 0.2576 - val_accuracy: 0.9287\n",
            "Epoch 4/10\n",
            "400/400 [==============================] - 25s 63ms/step - loss: 0.2537 - accuracy: 0.9301 - val_loss: 0.2571 - val_accuracy: 0.9287\n",
            "Epoch 5/10\n",
            "400/400 [==============================] - 25s 63ms/step - loss: 0.2538 - accuracy: 0.9301 - val_loss: 0.2571 - val_accuracy: 0.9287\n",
            "Epoch 6/10\n",
            "400/400 [==============================] - 25s 63ms/step - loss: 0.2538 - accuracy: 0.9301 - val_loss: 0.2571 - val_accuracy: 0.9287\n",
            "Epoch 7/10\n",
            "400/400 [==============================] - 26s 66ms/step - loss: 0.2535 - accuracy: 0.9301 - val_loss: 0.2571 - val_accuracy: 0.9287\n",
            "Epoch 8/10\n",
            "400/400 [==============================] - 25s 62ms/step - loss: 0.2538 - accuracy: 0.9301 - val_loss: 0.2571 - val_accuracy: 0.9287\n",
            "Epoch 9/10\n",
            "400/400 [==============================] - 25s 63ms/step - loss: 0.2534 - accuracy: 0.9301 - val_loss: 0.2572 - val_accuracy: 0.9287\n",
            "Epoch 10/10\n",
            "400/400 [==============================] - 26s 64ms/step - loss: 0.2537 - accuracy: 0.9301 - val_loss: 0.2571 - val_accuracy: 0.9287\n",
            "Accuracy: 0.9286719560623169\n"
          ]
        }
      ]
    },
    {
      "cell_type": "code",
      "source": [
        "import pandas as pd\n",
        "import numpy as np\n",
        "from sklearn.model_selection import train_test_split\n",
        "from sklearn.preprocessing import LabelEncoder\n",
        "from transformers import BertTokenizer, TFBertModel\n",
        "import tensorflow as tf\n",
        "from tensorflow.keras.utils import plot_model\n"
      ],
      "metadata": {
        "id": "McHXHbzl5NiN"
      },
      "execution_count": null,
      "outputs": []
    },
    {
      "cell_type": "code",
      "source": [
        "# Load the dataset\n",
        "data = pd.read_csv('/content/customer_review.csv')\n",
        "# Split the dataset into training and testing sets\n",
        "X_train, X_test, y_train, y_test = train_test_split(data['text'], data['label'], test_size=0.2, random_state=42)\n",
        "\n",
        "# Encode the labels\n",
        "label_encoder = LabelEncoder()\n",
        "y_train = label_encoder.fit_transform(y_train)\n",
        "y_test = label_encoder.transform(y_test)\n"
      ],
      "metadata": {
        "id": "yPmsXdHS5Udm"
      },
      "execution_count": null,
      "outputs": []
    },
    {
      "cell_type": "code",
      "source": [
        "# Load the BERT tokenizer\n",
        "tokenizer = BertTokenizer.from_pretrained('bert-base-uncased')\n",
        "\n",
        "# Tokenize the text and determine the maximum sequence length\n",
        "X_train_encodings = tokenizer(X_train.tolist(), truncation=True, padding=True)\n",
        "X_test_encodings = tokenizer(X_test.tolist(), truncation=True, padding=True)\n",
        "max_length = max(max(len(x) for x in X_train_encodings['input_ids']), max(len(x) for x in X_test_encodings['input_ids']))\n"
      ],
      "metadata": {
        "id": "tbEiEZUw5X1u"
      },
      "execution_count": null,
      "outputs": []
    },
    {
      "cell_type": "code",
      "source": [
        "# Re-tokenize with adjusted max_length\n",
        "X_train_encodings = tokenizer(X_train.tolist(), truncation=True, padding=True, max_length=max_length)\n",
        "X_test_encodings = tokenizer(X_test.tolist(), truncation=True, padding=True, max_length=max_length)\n",
        "\n",
        "# Create TensorFlow datasets\n",
        "train_dataset = tf.data.Dataset.from_tensor_slices((\n",
        "    {\n",
        "        'input_1': X_train_encodings['input_ids'],\n",
        "        'input_2': X_train_encodings['attention_mask'],\n",
        "    },\n",
        "    y_train.astype(float)\n",
        "))\n",
        "test_dataset = tf.data.Dataset.from_tensor_slices((\n",
        "    {\n",
        "        'input_1': X_test_encodings['input_ids'],\n",
        "        'input_2': X_test_encodings['attention_mask'],\n",
        "    },\n",
        "    y_test.astype(float)\n",
        "))\n"
      ],
      "metadata": {
        "id": "1g6Gz-tv5aqK"
      },
      "execution_count": null,
      "outputs": []
    },
    {
      "cell_type": "code",
      "source": [
        "# Load the pre-trained BERT model\n",
        "bert_model = TFBertModel.from_pretrained('bert-base-uncased', output_hidden_states=True)\n",
        "\n",
        "# Build the transformer-based model\n",
        "input_ids = tf.keras.layers.Input(shape=(max_length,), dtype=tf.int32, name='input_1')\n",
        "attention_mask = tf.keras.layers.Input(shape=(max_length,), dtype=tf.int32, name='input_2')\n",
        "embedding_layer = bert_model(input_ids, attention_mask=attention_mask)[0]\n",
        "output_layer = tf.keras.layers.GlobalAveragePooling1D()(embedding_layer)\n",
        "output_layer = tf.keras.layers.Dense(1, activation='sigmoid')(output_layer)\n",
        "\n",
        "model = tf.keras.Model(inputs=[input_ids, attention_mask], outputs=output_layer)\n"
      ],
      "metadata": {
        "id": "MzJ5Lz9V5d0K"
      },
      "execution_count": null,
      "outputs": []
    },
    {
      "cell_type": "code",
      "source": [
        "# Compile the model\n",
        "model.compile(optimizer=tf.keras.optimizers.Adam(learning_rate=1e-5),\n",
        "              loss='binary_crossentropy',\n",
        "              metrics=['accuracy'])\n",
        "\n",
        "# Train the model\n",
        "model.fit(train_dataset.shuffle(1000).batch(16),\n",
        "          epochs=3,\n",
        "          batch_size=16,\n",
        "          validation_data=test_dataset.shuffle(1000).batch(16))\n",
        "\n",
        "# Evaluate the model\n",
        "loss, accuracy = model.evaluate(test_dataset.batch(16), verbose=0)\n",
        "print(\"Accuracy:\", accuracy)\n",
        "\n",
        "#plot\n",
        "plot_model(model, to_file='model.png', show_shapes=True)\n"
      ],
      "metadata": {
        "id": "TfQ9Beng5jPz"
      },
      "execution_count": null,
      "outputs": []
    },
    {
      "cell_type": "code",
      "source": [],
      "metadata": {
        "id": "BwwW-dHG5msB"
      },
      "execution_count": null,
      "outputs": []
    }
  ]
}